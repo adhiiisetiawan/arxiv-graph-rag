{
 "cells": [
  {
   "cell_type": "code",
   "execution_count": null,
   "metadata": {},
   "outputs": [],
   "source": [
    "import networkx as nx\n",
    "import matplotlib.pyplot as plt\n",
    "\n",
    "# Step 1: Read the GraphML file\n",
    "graph = nx.read_graphml('output/20240711-140302/artifacts/summarized_graph.graphml')\n",
    "\n",
    "# Step 2: Draw the graph\n",
    "pos = nx.spring_layout(graph)  # You can use different layouts such as spring_layout, circular_layout, etc.\n",
    "nx.draw(graph, pos, with_labels=True, node_color='skyblue', node_size=2000, edge_color='gray', font_size=10, font_color='black')\n",
    "\n",
    "# Step 3: Show the plot\n",
    "plt.title('GraphML Graph Visualization')\n",
    "plt.show()\n"
   ]
  },
  {
   "cell_type": "code",
   "execution_count": null,
   "metadata": {},
   "outputs": [],
   "source": []
  }
 ],
 "metadata": {
  "kernelspec": {
   "display_name": ".venv",
   "language": "python",
   "name": "python3"
  },
  "language_info": {
   "codemirror_mode": {
    "name": "ipython",
    "version": 3
   },
   "file_extension": ".py",
   "mimetype": "text/x-python",
   "name": "python",
   "nbconvert_exporter": "python",
   "pygments_lexer": "ipython3",
   "version": "3.10.12"
  }
 },
 "nbformat": 4,
 "nbformat_minor": 2
}
